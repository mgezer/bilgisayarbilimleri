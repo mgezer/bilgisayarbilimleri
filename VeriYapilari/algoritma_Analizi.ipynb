{
 "cells": [
  {
   "cell_type": "code",
   "execution_count": 1,
   "id": "8988cc7f-56f2-4b8f-97d8-5a09908ffc60",
   "metadata": {},
   "outputs": [
    {
     "name": "stdout",
     "output_type": "stream",
     "text": [
      "55\n"
     ]
    }
   ],
   "source": [
    "def fonksiyon1 (N):\n",
    "    toplam = 0\n",
    "    for i in range(N):\n",
    "        toplam  += i*i\n",
    "    for j in range(N):\n",
    "        for k in range(N):\n",
    "            toplam = toplam +1\n",
    "    return toplam\n",
    "\n",
    "print(fonksiyon1(5))"
   ]
  },
  {
   "cell_type": "code",
   "execution_count": 2,
   "id": "3bf912f9-01d0-4643-9c90-73f0e83ab91a",
   "metadata": {},
   "outputs": [
    {
     "name": "stdout",
     "output_type": "stream",
     "text": [
      "12345 sayısının basamakları toplamı: 15\n"
     ]
    }
   ],
   "source": [
    "def basamak_toplami(sayi):\n",
    "  \"\"\"\n",
    "  Verilen bir sayının basamaklarını toplayan fonksiyon.\n",
    "\n",
    "  Args:\n",
    "    sayi: Basamakları toplanacak sayı.\n",
    "\n",
    "  Returns:\n",
    "    Basamakların toplamı.\n",
    "  \"\"\"\n",
    "\n",
    "  toplam = 0\n",
    "  while sayi > 0:\n",
    "    basamak = sayi % 10\n",
    "    toplam += basamak\n",
    "    sayi //= 10\n",
    "  return toplam\n",
    "\n",
    "# Örnek kullanım:\n",
    "sayi = 12345\n",
    "sonuc = basamak_toplami(sayi)\n",
    "print(sayi, \"sayısının basamakları toplamı:\", sonuc)"
   ]
  },
  {
   "cell_type": "code",
   "execution_count": null,
   "id": "38046808-225c-43c3-8c00-b76933f3735f",
   "metadata": {},
   "outputs": [],
   "source": []
  }
 ],
 "metadata": {
  "kernelspec": {
   "display_name": "Python 3 (ipykernel)",
   "language": "python",
   "name": "python3"
  },
  "language_info": {
   "codemirror_mode": {
    "name": "ipython",
    "version": 3
   },
   "file_extension": ".py",
   "mimetype": "text/x-python",
   "name": "python",
   "nbconvert_exporter": "python",
   "pygments_lexer": "ipython3",
   "version": "3.12.5"
  }
 },
 "nbformat": 4,
 "nbformat_minor": 5
}

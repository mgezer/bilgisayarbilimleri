{
 "cells": [
  {
   "cell_type": "markdown",
   "metadata": {
    "id": "x-lscJ9VZiH0"
   },
   "source": [
    "# Hafta 3 Numpy ve  Pandas  ile işlemler"
   ]
  },
  {
   "cell_type": "code",
   "execution_count": 1,
   "metadata": {},
   "outputs": [],
   "source": [
    "import numpy as np"
   ]
  },
  {
   "cell_type": "code",
   "execution_count": 2,
   "metadata": {},
   "outputs": [
    {
     "name": "stdout",
     "output_type": "stream",
     "text": [
      "1D dizi: [1 2 3 4 5]\n",
      "2D dizi:\n",
      " [[1 2 3]\n",
      " [4 5 6]]\n",
      "Sıfır matrisi:\n",
      " [[0. 0. 0.]\n",
      " [0. 0. 0.]\n",
      " [0. 0. 0.]]\n",
      "Bir matrisi:\n",
      " [[1. 1. 1. 1.]\n",
      " [1. 1. 1. 1.]]\n",
      "Arange: [0 2 4 6 8]\n",
      "Linspace: [0.   0.25 0.5  0.75 1.  ]\n"
     ]
    }
   ],
   "source": [
    "# 1D dizi\n",
    "arr1 = np.array([1, 2, 3, 4, 5])\n",
    "print(\"1D dizi:\", arr1)\n",
    "\n",
    "# 2D dizi (matris)\n",
    "arr2 = np.array([[1, 2, 3], [4, 5, 6]])\n",
    "print(\"2D dizi:\\n\", arr2)\n",
    "\n",
    "# Sıfırlardan oluşan dizi\n",
    "zeros = np.zeros((3, 3))\n",
    "print(\"Sıfır matrisi:\\n\", zeros)\n",
    "\n",
    "# Birlerden oluşan dizi\n",
    "ones = np.ones((2, 4))\n",
    "print(\"Bir matrisi:\\n\", ones)\n",
    "\n",
    "# Belirli bir aralıkta eşit aralıklı sayılar\n",
    "arange = np.arange(0, 10, 2)\n",
    "print(\"Arange:\", arange)\n",
    "\n",
    "# Belirli bir aralıkta belirli sayıda eşit aralıklı sayılar\n",
    "linspace = np.linspace(0, 1, 5)\n",
    "print(\"Linspace:\", linspace)"
   ]
  },
  {
   "cell_type": "markdown",
   "metadata": {},
   "source": [
    "# Temel Sayısal Veri Tipleri"
   ]
  },
  {
   "cell_type": "code",
   "execution_count": 3,
   "metadata": {},
   "outputs": [
    {
     "name": "stdout",
     "output_type": "stream",
     "text": [
      "10 <class 'numpy.int32'>\n",
      "1000000000000 <class 'numpy.int64'>\n"
     ]
    }
   ],
   "source": [
    "# a) int (tamsayılar):\n",
    "# 32-bit tamsayı\n",
    "x = np.int32(10)\n",
    "print(x, type(x))  # 10 <class 'numpy.int32'>\n",
    "\n",
    "# 64-bit tamsayı\n",
    "y = np.int64(1000000000000)\n",
    "print(y, type(y))  # 1000000000000 <class 'numpy.int64'>"
   ]
  },
  {
   "cell_type": "code",
   "execution_count": 4,
   "metadata": {},
   "outputs": [
    {
     "name": "stdout",
     "output_type": "stream",
     "text": [
      "3.14 <class 'numpy.float32'>\n",
      "3.141592653589793 <class 'numpy.float64'>\n"
     ]
    }
   ],
   "source": [
    "# b) float (ondalıklı sayılar):\n",
    "# 32-bit float\n",
    "a = np.float32(3.14)\n",
    "print(a, type(a))  # 3.14 <class 'numpy.float32'>\n",
    "\n",
    "# 64-bit float\n",
    "b = np.float64(3.141592653589793)\n",
    "print(b, type(b))  # 3.141592653589793 <class 'numpy.float64'>"
   ]
  },
  {
   "cell_type": "code",
   "execution_count": 5,
   "metadata": {},
   "outputs": [
    {
     "name": "stdout",
     "output_type": "stream",
     "text": [
      "(1+2j) <class 'numpy.complex64'>\n"
     ]
    }
   ],
   "source": [
    "#c) complex (karmaşık sayılar):\n",
    "c = np.complex64(1+2j)\n",
    "print(c, type(c))  # (1+2j) <class 'numpy.complex64'>"
   ]
  },
  {
   "cell_type": "code",
   "execution_count": 6,
   "metadata": {},
   "outputs": [
    {
     "name": "stdout",
     "output_type": "stream",
     "text": [
      "[ True False  True] bool\n"
     ]
    }
   ],
   "source": [
    "#Boolean Veri Tipi:\n",
    "bool_array = np.array([True, False, True])\n",
    "print(bool_array, bool_array.dtype)  # [ True False  True] bool"
   ]
  },
  {
   "cell_type": "code",
   "execution_count": 8,
   "metadata": {},
   "outputs": [
    {
     "name": "stdout",
     "output_type": "stream",
     "text": [
      "['Python' 'NumPy' 'Pandas'] <U6\n"
     ]
    }
   ],
   "source": [
    "#String Veri Tipi:\n",
    "\n",
    "str_array = np.array(['Python', 'NumPy', 'Pandas'])\n",
    "print(str_array, str_array.dtype)  # ['Python' 'NumPy' 'Pandas'] <U6"
   ]
  },
  {
   "cell_type": "code",
   "execution_count": 9,
   "metadata": {},
   "outputs": [
    {
     "name": "stdout",
     "output_type": "stream",
     "text": [
      "['2023-05-01' '2023-05-02' '2023-05-03'] datetime64[D]\n"
     ]
    }
   ],
   "source": [
    "# datetime64 (tarih ve zaman):\n",
    "dates = np.array(['2023-05-01', '2023-05-02', '2023-05-03'], dtype='datetime64')\n",
    "print(dates, dates.dtype)  # ['2023-05-01' '2023-05-02' '2023-05-03'] datetime64[D]"
   ]
  },
  {
   "cell_type": "code",
   "execution_count": 10,
   "metadata": {},
   "outputs": [
    {
     "name": "stdout",
     "output_type": "stream",
     "text": [
      "['1' '2.5' '(3+4j)' 'True' 'Python'] <U64\n",
      "[1 2 3 4] int32\n"
     ]
    }
   ],
   "source": [
    "#Veri Tipi Dönüşümleri\n",
    "\n",
    "\n",
    "# Farklı veri tiplerinden oluşan dizi\n",
    "mixed_array = np.array([1, 2.5, 3+4j, True, 'Python'])\n",
    "print(mixed_array, mixed_array.dtype)  # ['1' '2.5' '(3+4j)' 'True' 'Python'] <U11\n",
    "\n",
    "# Belirli bir veri tipi ile dizi oluşturma\n",
    "int_array = np.array([1, 2, 3, 4], dtype=np.int32)\n",
    "print(int_array, int_array.dtype)  # [1 2 3 4] int32"
   ]
  },
  {
   "cell_type": "code",
   "execution_count": 11,
   "metadata": {},
   "outputs": [
    {
     "name": "stdout",
     "output_type": "stream",
     "text": [
      "int64\n",
      "int32 min: -2147483648, max: 2147483647\n",
      "float32 min: -3.4028234663852886e+38, max: 3.4028234663852886e+38\n"
     ]
    }
   ],
   "source": [
    "#Veri Tipi Bilgisi Alma\n",
    "arr = np.array([1, 2, 3, 4])\n",
    "print(arr.dtype)  # int64\n",
    "\n",
    "info = np.iinfo(np.int32)\n",
    "print(f\"int32 min: {info.min}, max: {info.max}\")  # int32 min: -2147483648, max: 2147483647\n",
    "\n",
    "info = np.finfo(np.float32)\n",
    "print(f\"float32 min: {info.min}, max: {info.max}\")  # float32 min: -3.4028235e+38, max: 3.4028235e+38"
   ]
  },
  {
   "cell_type": "code",
   "execution_count": 12,
   "metadata": {},
   "outputs": [
    {
     "name": "stdout",
     "output_type": "stream",
     "text": [
      "Toplama: [ 6  8 10 12]\n",
      "Çıkarma: [4 4 4 4]\n",
      "Çarpma: [ 5 12 21 32]\n",
      "Bölme: [5.         3.         2.33333333 2.        ]\n",
      "Üs alma: [ 1  4  9 16]\n",
      "Kalan: [0 0 1 0]\n"
     ]
    }
   ],
   "source": [
    "#Temel Aritmetik İşlemler\n",
    "a = np.array([1, 2, 3, 4])\n",
    "b = np.array([5, 6, 7, 8])\n",
    "\n",
    "# Toplama\n",
    "print(\"Toplama:\", a + b)  # [6 8 10 12]\n",
    "\n",
    "# Çıkarma\n",
    "print(\"Çıkarma:\", b - a)  # [4 4 4 4]\n",
    "\n",
    "# Çarpma\n",
    "print(\"Çarpma:\", a * b)  # [ 5 12 21 32]\n",
    "\n",
    "# Bölme\n",
    "print(\"Bölme:\", b / a)  # [5.  3.  2.33333333 2. ]\n",
    "\n",
    "# Üs alma\n",
    "print(\"Üs alma:\", a ** 2)  # [ 1  4  9 16]\n",
    "\n",
    "# Kalan bulma (Modulo)\n",
    "print(\"Kalan:\", b % a)  # [0 0 1 0]"
   ]
  },
  {
   "cell_type": "code",
   "execution_count": 13,
   "metadata": {},
   "outputs": [
    {
     "name": "stdout",
     "output_type": "stream",
     "text": [
      "Matris çarpımı:\n",
      " [[19 22]\n",
      " [43 50]]\n",
      "Matris çarpımı (@):\n",
      " [[19 22]\n",
      " [43 50]]\n"
     ]
    }
   ],
   "source": [
    "#Matris Çarpımı\n",
    "A = np.array([[1, 2], [3, 4]])\n",
    "B = np.array([[5, 6], [7, 8]])\n",
    "\n",
    "# Matris çarpımı\n",
    "C = np.dot(A, B)\n",
    "print(\"Matris çarpımı:\\n\", C)\n",
    "# [[19 22]\n",
    "#  [43 50]]\n",
    "\n",
    "# Alternatif olarak @ operatörü de kullanılabilir\n",
    "D = A @ B\n",
    "print(\"Matris çarpımı (@):\\n\", D)\n",
    "# [[19 22]\n",
    "#  [43 50]]"
   ]
  },
  {
   "cell_type": "code",
   "execution_count": 14,
   "metadata": {},
   "outputs": [
    {
     "name": "stdout",
     "output_type": "stream",
     "text": [
      "Ortalama: 5.5\n",
      "Medyan: 5.5\n",
      "Standart sapma: 2.8722813232690143\n",
      "Varyans: 8.25\n",
      "Minimum: 1\n",
      "Maksimum: 10\n",
      "Toplam: 55\n",
      "Kümülatif toplam: [ 1  3  6 10 15 21 28 36 45 55]\n"
     ]
    }
   ],
   "source": [
    "#İstatistiksel İşlemler\n",
    "data = np.array([1, 2, 3, 4, 5, 6, 7, 8, 9, 10])\n",
    "\n",
    "print(\"Ortalama:\", np.mean(data))  # 5.5\n",
    "print(\"Medyan:\", np.median(data))  # 5.5\n",
    "print(\"Standart sapma:\", np.std(data))  # 2.8722813232690143\n",
    "print(\"Varyans:\", np.var(data))  # 8.25\n",
    "print(\"Minimum:\", np.min(data))  # 1\n",
    "print(\"Maksimum:\", np.max(data))  # 10\n",
    "print(\"Toplam:\", np.sum(data))  # 55\n",
    "print(\"Kümülatif toplam:\", np.cumsum(data))  # [ 1  3  6 10 15 21 28 36 45 55]"
   ]
  },
  {
   "cell_type": "code",
   "execution_count": 15,
   "metadata": {},
   "outputs": [
    {
     "name": "stdout",
     "output_type": "stream",
     "text": [
      "Sıralı dizi: [1 1 2 3 3 4 5 5 5 6 9]\n",
      "Benzersiz değerler: [1 2 3 4 5 6 9]\n"
     ]
    }
   ],
   "source": [
    "#Sıralama ve Benzersiz Değerler\n",
    "unsorted = np.array([3, 1, 4, 1, 5, 9, 2, 6, 5, 3, 5])\n",
    "\n",
    "print(\"Sıralı dizi:\", np.sort(unsorted))  # [1 1 2 3 3 4 5 5 5 6 9]\n",
    "print(\"Benzersiz değerler:\", np.unique(unsorted))  # [1 2 3 4 5 6 9]"
   ]
  },
  {
   "cell_type": "code",
   "execution_count": 16,
   "metadata": {
    "executionInfo": {
     "elapsed": 455,
     "status": "ok",
     "timestamp": 1701938999950,
     "user": {
      "displayName": "Sinan Uğuz",
      "userId": "17778726018301354094"
     },
     "user_tz": -180
    },
    "id": "A2bGdrmZZHOg"
   },
   "outputs": [
    {
     "name": "stdout",
     "output_type": "stream",
     "text": [
      "Korelasyon katsayısı: 0.7745966692414834\n",
      "Kovaryans matrisi:\n",
      " [[2.5 1.5]\n",
      " [1.5 1.5]]\n"
     ]
    }
   ],
   "source": [
    "#Korelasyon ve Kovaryans:\n",
    "\n",
    "x = np.array([1, 2, 3, 4, 5])\n",
    "y = np.array([2, 4, 5, 4, 5])\n",
    "\n",
    "print(\"Korelasyon katsayısı:\", np.corrcoef(x, y)[0, 1])  # 0.8164965809277261\n",
    "print(\"Kovaryans matrisi:\\n\", np.cov(x, y))\n",
    "# [[2.  1.6]\n",
    "#  [1.6 1.5]]"
   ]
  },
  {
   "cell_type": "code",
   "execution_count": 17,
   "metadata": {},
   "outputs": [
    {
     "name": "stdout",
     "output_type": "stream",
     "text": [
      "Histogram değerleri: [  2  20  50 127 190 219 187 121  60  24]\n",
      "Bin kenarları: [-3.20321727 -2.61644346 -2.02966966 -1.44289585 -0.85612204 -0.26934824\n",
      "  0.31742557  0.90419938  1.49097318  2.07774699  2.6645208 ]\n"
     ]
    }
   ],
   "source": [
    "#Histogram ve Frekans Analizi\n",
    "data = np.random.normal(0, 1, 1000)  # Normal dağılımlı veri üretme\n",
    "\n",
    "hist, bin_edges = np.histogram(data, bins=10)\n",
    "print(\"Histogram değerleri:\", hist)\n",
    "print(\"Bin kenarları:\", bin_edges)"
   ]
  },
  {
   "cell_type": "code",
   "execution_count": 18,
   "metadata": {},
   "outputs": [
    {
     "name": "stdout",
     "output_type": "stream",
     "text": [
      "Lineer denklem çözümü: [-4.   4.5]\n",
      "Özdeğerler: [-0.37228132  5.37228132]\n",
      "Özvektörler:\n",
      " [[-0.82456484 -0.41597356]\n",
      " [ 0.56576746 -0.90937671]]\n"
     ]
    }
   ],
   "source": [
    "#Lineer Cebir İşlemleri:\n",
    "A = np.array([[1, 2], [3, 4]])\n",
    "B = np.array([5, 6])\n",
    "\n",
    "# Lineer denklem çözümü: Ax = B\n",
    "x = np.linalg.solve(A, B)\n",
    "print(\"Lineer denklem çözümü:\", x)\n",
    "\n",
    "# Özdeğer ve özvektör hesaplama\n",
    "eigenvalues, eigenvectors = np.linalg.eig(A)\n",
    "print(\"Özdeğerler:\", eigenvalues)\n",
    "print(\"Özvektörler:\\n\", eigenvectors)"
   ]
  },
  {
   "cell_type": "code",
   "execution_count": 19,
   "metadata": {
    "colab": {
     "base_uri": "https://localhost:8080/"
    },
    "executionInfo": {
     "elapsed": 9,
     "status": "ok",
     "timestamp": 1682510807206,
     "user": {
      "displayName": "Sinan Uğuz",
      "userId": "17778726018301354094"
     },
     "user_tz": -180
    },
    "id": "CpCMAwRndXR7",
    "outputId": "1cd027ac-4a2f-4662-f302-0de7d759248c"
   },
   "outputs": [
    {
     "name": "stdout",
     "output_type": "stream",
     "text": [
      "\n",
      " absolute\n",
      "[[ 1.   2.5  6. ]\n",
      " [ 8.  20.  11. ]]\n",
      "\n",
      " sqrt\n",
      "[[1.         1.58113883 2.44948974]\n",
      " [2.82842712 4.47213595 3.31662479]]\n",
      "\n",
      " ceil\n",
      "[[ 1.  3.  6.]\n",
      " [ 8. 20. 11.]]\n",
      "\n",
      " isnan\n",
      "[[False False False]\n",
      " [False False False]]\n"
     ]
    }
   ],
   "source": [
    "#Liste 2.20\n",
    "dizi = np.array([[1, 2.5, 6], [8, 20, 11]])\n",
    "for i in (np.abs, np.sqrt, np.ceil, np.isnan):\n",
    "    print(\"\\n\", i.__name__)\n",
    "    print(i(dizi))"
   ]
  },
  {
   "cell_type": "markdown",
   "metadata": {},
   "source": []
  },
  {
   "cell_type": "code",
   "execution_count": 20,
   "metadata": {
    "id": "GPTSD5E6daid"
   },
   "outputs": [
    {
     "name": "stdout",
     "output_type": "stream",
     "text": [
      "[2 3 4 5 6]\n",
      "[1 3 5 7]\n",
      "[9 8 7 6 5 4 3 2 1 0]\n"
     ]
    }
   ],
   "source": [
    "dizi = np.array([0, 1, 2, 3, 4, 5, 6, 7, 8, 9])\n",
    "\n",
    "print(dizi[2:7])  # [2 3 4 5 6]\n",
    "print(dizi[1:8:2])  # [1 3 5 7]\n",
    "print(dizi[::-1])  # [9 8 7 6 5 4 3 2 1 0]\n"
   ]
  },
  {
   "cell_type": "markdown",
   "metadata": {},
   "source": [
    "## Temel Bölümleme Sözdizimi:\n",
    " Genel sözdizimi şöyledir: dizi[başlangıç:bitiş:adım]\n",
    "\n",
    " **başlangıç:** Bölümlemenin başlayacağı indeks (dahil)\n",
    " \n",
    " **bitiş:** Bölümlemenin biteceği indeks (hariç)\n",
    " \n",
    " **adım:** İndeksler arasındaki artış miktarı"
   ]
  },
  {
   "cell_type": "code",
   "execution_count": 21,
   "metadata": {
    "colab": {
     "base_uri": "https://localhost:8080/"
    },
    "executionInfo": {
     "elapsed": 14,
     "status": "ok",
     "timestamp": 1682510835259,
     "user": {
      "displayName": "Sinan Uğuz",
      "userId": "17778726018301354094"
     },
     "user_tz": -180
    },
    "id": "GPUWFYZqdeKN",
    "outputId": "f2ad6354-2dbe-47e2-940f-210903737602"
   },
   "outputs": [
    {
     "name": "stdout",
     "output_type": "stream",
     "text": [
      "[[ 5  6]\n",
      " [ 9 10]]\n",
      "[[3 4]\n",
      " [7 8]]\n"
     ]
    }
   ],
   "source": [
    "#2D Dizilerde Bölümleme:\n",
    "\n",
    "arr_2d = np.array([[1, 2, 3, 4],\n",
    "                   [5, 6, 7, 8],\n",
    "                   [9, 10, 11, 12]])\n",
    "\n",
    "print(arr_2d[1:, :2])\n",
    "# [[5 6]\n",
    "#  [9 10]]\n",
    "\n",
    "print(arr_2d[:2, 2:])\n",
    "# [[ 3  4]\n",
    "#  [ 7  8]]\n"
   ]
  },
  {
   "cell_type": "code",
   "execution_count": 22,
   "metadata": {
    "colab": {
     "base_uri": "https://localhost:8080/"
    },
    "executionInfo": {
     "elapsed": 9,
     "status": "ok",
     "timestamp": 1682510844688,
     "user": {
      "displayName": "Sinan Uğuz",
      "userId": "17778726018301354094"
     },
     "user_tz": -180
    },
    "id": "AMq08C7gdgS9",
    "outputId": "e6b0b5ec-c332-40f8-be30-c3a39902f9b7"
   },
   "outputs": [
    {
     "name": "stdout",
     "output_type": "stream",
     "text": [
      "[6 7 8 9]\n",
      "[2 4 6 8]\n"
     ]
    }
   ],
   "source": [
    "# Boole İndeksleme:\n",
    "arr = np.array([1, 2, 3, 4, 5, 6, 7, 8, 9])\n",
    "bool_idx = arr > 5\n",
    "\n",
    "print(arr[bool_idx])  # [6 7 8 9]\n",
    "print(arr[arr % 2 == 0])  # [2 4 6 8]"
   ]
  },
  {
   "cell_type": "code",
   "execution_count": 23,
   "metadata": {
    "colab": {
     "base_uri": "https://localhost:8080/"
    },
    "executionInfo": {
     "elapsed": 9,
     "status": "ok",
     "timestamp": 1682510853348,
     "user": {
      "displayName": "Sinan Uğuz",
      "userId": "17778726018301354094"
     },
     "user_tz": -180
    },
    "id": "2j7aBocsdicN",
    "outputId": "2d6f0ff5-ad79-4c43-d739-b94856d5fb84"
   },
   "outputs": [
    {
     "name": "stdout",
     "output_type": "stream",
     "text": [
      "[20 40 50]\n"
     ]
    }
   ],
   "source": [
    "arr = np.array([10, 20, 30, 40, 50])\n",
    "indices = [1, 3, 4]\n",
    "\n",
    "print(arr[indices])  # [20 40 50]"
   ]
  },
  {
   "cell_type": "code",
   "execution_count": 24,
   "metadata": {
    "colab": {
     "base_uri": "https://localhost:8080/"
    },
    "executionInfo": {
     "elapsed": 9,
     "status": "ok",
     "timestamp": 1682510861981,
     "user": {
      "displayName": "Sinan Uğuz",
      "userId": "17778726018301354094"
     },
     "user_tz": -180
    },
    "id": "_9hZNLrLdksu",
    "outputId": "be16a99e-15c7-4701-9606-f3e4c73bfd71"
   },
   "outputs": [
    {
     "name": "stdout",
     "output_type": "stream",
     "text": [
      "[  1   2 100 100   5]\n"
     ]
    }
   ],
   "source": [
    "#Dizileri Değiştirme\n",
    "arr = np.array([1, 2, 3, 4, 5])\n",
    "arr[2:4] = 100\n",
    "print(arr)  # [  1   2 100 100   5]"
   ]
  },
  {
   "cell_type": "code",
   "execution_count": 25,
   "metadata": {
    "colab": {
     "base_uri": "https://localhost:8080/"
    },
    "executionInfo": {
     "elapsed": 292,
     "status": "ok",
     "timestamp": 1682510870876,
     "user": {
      "displayName": "Sinan Uğuz",
      "userId": "17778726018301354094"
     },
     "user_tz": -180
    },
    "id": "iSw3RxoLdmrQ",
    "outputId": "a7125e2b-b525-4fd8-c490-8b085e3613f0"
   },
   "outputs": [
    {
     "name": "stdout",
     "output_type": "stream",
     "text": [
      "Tersten sıralanmış dizi: [9 6 5 4 3 2 1 1]\n",
      "Alternatif yöntemle tersten sıralanmış dizi: [9 6 5 4 3 2 1 1]\n"
     ]
    }
   ],
   "source": [
    "# Örnek bir dizi oluşturalım\n",
    "arr = np.array([3, 1, 4, 1, 5, 9, 2, 6])\n",
    "\n",
    "# np.sort() ile sıralayıp, [::-1] ile tersine çevirme\n",
    "reversed_arr = np.sort(arr)[::-1]\n",
    "print(\"Tersten sıralanmış dizi:\", reversed_arr)\n",
    "\n",
    "# Alternatif olarak, np.sort() ile -arr kullanma\n",
    "reversed_arr_alt = -np.sort(-arr)\n",
    "print(\"Alternatif yöntemle tersten sıralanmış dizi:\", reversed_arr_alt)\n"
   ]
  },
  {
   "cell_type": "code",
   "execution_count": 26,
   "metadata": {
    "colab": {
     "base_uri": "https://localhost:8080/"
    },
    "executionInfo": {
     "elapsed": 670,
     "status": "ok",
     "timestamp": 1682510881044,
     "user": {
      "displayName": "Sinan Uğuz",
      "userId": "17778726018301354094"
     },
     "user_tz": -180
    },
    "id": "RVoB9fladpOu",
    "outputId": "e28b3ccd-d76c-4232-fa70-e3a101277665"
   },
   "outputs": [
    {
     "name": "stdout",
     "output_type": "stream",
     "text": [
      "Orijinal dizi: [3 1 4 1 5 9 2 6]\n",
      "Tersten sıralanmış dizi: [9 6 5 4 3 2 1 1]\n"
     ]
    }
   ],
   "source": [
    "# Orijinal diziyi koruyarak tersten sıralama\n",
    "original_arr = np.array([3, 1, 4, 1, 5, 9, 2, 6])\n",
    "reversed_arr = np.sort(original_arr)[::-1]\n",
    "\n",
    "print(\"Orijinal dizi:\", original_arr)\n",
    "print(\"Tersten sıralanmış dizi:\", reversed_arr)"
   ]
  },
  {
   "cell_type": "code",
   "execution_count": 27,
   "metadata": {
    "colab": {
     "base_uri": "https://localhost:8080/"
    },
    "executionInfo": {
     "elapsed": 274,
     "status": "ok",
     "timestamp": 1682510891834,
     "user": {
      "displayName": "Sinan Uğuz",
      "userId": "17778726018301354094"
     },
     "user_tz": -180
    },
    "id": "G0qwfj3sdr3e",
    "outputId": "32e59919-3e5e-4928-d16b-5b7dd8c002dd"
   },
   "outputs": [
    {
     "name": "stdout",
     "output_type": "stream",
     "text": [
      "Yerinde tersten sıralanmış dizi: [9 6 5 4 3 2 1 1]\n"
     ]
    }
   ],
   "source": [
    "# Diziyi yerinde tersten sıralama\n",
    "arr = np.array([3, 1, 4, 1, 5, 9, 2, 6])\n",
    "arr.sort()\n",
    "arr = arr[::-1]\n",
    "\n",
    "print(\"Yerinde tersten sıralanmış dizi:\", arr)"
   ]
  },
  {
   "cell_type": "code",
   "execution_count": 28,
   "metadata": {
    "colab": {
     "base_uri": "https://localhost:8080/"
    },
    "executionInfo": {
     "elapsed": 9,
     "status": "ok",
     "timestamp": 1682510900097,
     "user": {
      "displayName": "Sinan Uğuz",
      "userId": "17778726018301354094"
     },
     "user_tz": -180
    },
    "id": "IADdi56Wdt88",
    "outputId": "02a793aa-865d-4d5a-f39c-ae86feea00bc"
   },
   "outputs": [
    {
     "name": "stdout",
     "output_type": "stream",
     "text": [
      "Sütunlara göre tersten sıralanmış:\n",
      " [[3 6 9]\n",
      " [2 5 5]\n",
      " [1 1 4]]\n",
      "\n",
      "Satırlara göre tersten sıralanmış:\n",
      " [[4 3 1]\n",
      " [9 5 1]\n",
      " [6 5 2]]\n"
     ]
    }
   ],
   "source": [
    "# 2D dizi örneği\n",
    "arr_2d = np.array([[3, 1, 4], [1, 5, 9], [2, 6, 5]])\n",
    "\n",
    "# Sütunlara göre tersten sıralama\n",
    "col_sorted = np.sort(arr_2d, axis=0)[::-1]\n",
    "print(\"Sütunlara göre tersten sıralanmış:\\n\", col_sorted)\n",
    "\n",
    "# Satırlara göre tersten sıralama\n",
    "row_sorted = np.sort(arr_2d, axis=1)[:, ::-1]\n",
    "print(\"\\nSatırlara göre tersten sıralanmış:\\n\", row_sorted)"
   ]
  },
  {
   "cell_type": "markdown",
   "metadata": {
    "colab": {
     "base_uri": "https://localhost:8080/"
    },
    "executionInfo": {
     "elapsed": 9,
     "status": "ok",
     "timestamp": 1682510908977,
     "user": {
      "displayName": "Sinan Uğuz",
      "userId": "17778726018301354094"
     },
     "user_tz": -180
    },
    "id": "HdfZswIpdwHp",
    "outputId": "62aaf8bc-481f-4cca-b40d-11fb76a038cb"
   },
   "source": [
    "## Sığ Kopyalama (Shallow Copy):\n",
    "Sığ kopyalama, yeni bir dizi nesnesi oluşturur ancak verinin kendisini kopyalamaz. \n",
    "Bunun yerine, orijinal veriye bir referans oluşturur."
   ]
  },
  {
   "cell_type": "code",
   "execution_count": null,
   "metadata": {},
   "outputs": [],
   "source": [
    "# Orijinal dizi\n",
    "original = np.array([1, 2, 3, 4, 5])\n",
    "\n",
    "# Sığ kopyalama\n",
    "shallow_copy = original.view()\n",
    "\n",
    "print(\"Orijinal:\", original)\n",
    "print(\"Sığ kopya:\", shallow_copy)\n",
    "\n",
    "# Sığ kopyanın bir elemanını değiştirme\n",
    "shallow_copy[0] = 99\n",
    "\n",
    "print(\"\\nDeğişiklikten sonra:\")\n",
    "print(\"Orijinal:\", original)\n",
    "print(\"Sığ kopya:\", shallow_copy)"
   ]
  },
  {
   "cell_type": "code",
   "execution_count": 29,
   "metadata": {
    "colab": {
     "base_uri": "https://localhost:8080/"
    },
    "executionInfo": {
     "elapsed": 9,
     "status": "ok",
     "timestamp": 1682510921357,
     "user": {
      "displayName": "Sinan Uğuz",
      "userId": "17778726018301354094"
     },
     "user_tz": -180
    },
    "id": "F-ZWrXvFdzKN",
    "outputId": "c20bcaf4-508b-4858-c2c0-33ccc64dbff5"
   },
   "outputs": [
    {
     "name": "stdout",
     "output_type": "stream",
     "text": [
      "Orijinal: [1 2 3 4 5]\n",
      "Atanmış: [1 2 3 4 5]\n",
      "\n",
      "Değişiklikten sonra:\n",
      "Orijinal: [999   2   3   4   5]\n",
      "Atanmış: [999   2   3   4   5]\n"
     ]
    }
   ],
   "source": [
    "# Atama operatörü ile kopyalama\n",
    "original = np.array([1, 2, 3, 4, 5])\n",
    "assigned = original\n",
    "\n",
    "print(\"Orijinal:\", original)\n",
    "print(\"Atanmış:\", assigned)\n",
    "\n",
    "# Atanmış dizinin bir elemanını değiştirme\n",
    "assigned[0] = 999\n",
    "\n",
    "print(\"\\nDeğişiklikten sonra:\")\n",
    "print(\"Orijinal:\", original)\n",
    "print(\"Atanmış:\", assigned)"
   ]
  },
  {
   "cell_type": "code",
   "execution_count": 30,
   "metadata": {
    "id": "z23HrpkwHgej"
   },
   "outputs": [],
   "source": [
    "\n",
    "import pandas as pd"
   ]
  },
  {
   "cell_type": "code",
   "execution_count": 31,
   "metadata": {
    "colab": {
     "base_uri": "https://localhost:8080/"
    },
    "executionInfo": {
     "elapsed": 279,
     "status": "ok",
     "timestamp": 1697526722454,
     "user": {
      "displayName": "Sinan Uğuz",
      "userId": "17778726018301354094"
     },
     "user_tz": -180
    },
    "id": "tMpIpGEXHqzD",
    "outputId": "f28ae325-131d-498c-892c-b4c98af9e33c"
   },
   "outputs": [
    {
     "name": "stdout",
     "output_type": "stream",
     "text": [
      "0                2018\n",
      "1    Makine Öğrenmesi\n",
      "2               -5.23\n",
      "dtype: object\n"
     ]
    }
   ],
   "source": [
    "\n",
    "seri1 = pd.Series([2018,'Makine Öğrenmesi',-5.23])\n",
    "print(seri1)"
   ]
  },
  {
   "cell_type": "code",
   "execution_count": 32,
   "metadata": {
    "colab": {
     "base_uri": "https://localhost:8080/"
    },
    "executionInfo": {
     "elapsed": 304,
     "status": "ok",
     "timestamp": 1697526801842,
     "user": {
      "displayName": "Sinan Uğuz",
      "userId": "17778726018301354094"
     },
     "user_tz": -180
    },
    "id": "1Pf-VRSEHs5E",
    "outputId": "9519ea9e-81bd-4955-ad3c-53b20db61e07"
   },
   "outputs": [
    {
     "name": "stdout",
     "output_type": "stream",
     "text": [
      "A                2018\n",
      "B    Makine Öğrenmesi\n",
      "C               -5.23\n",
      "dtype: object\n",
      "2018\n",
      "2018\n"
     ]
    },
    {
     "name": "stderr",
     "output_type": "stream",
     "text": [
      "/var/folders/sc/8tqth1w9237fvhq3kqtxr3540000gn/T/ipykernel_4251/1341527381.py:4: FutureWarning: Series.__getitem__ treating keys as positions is deprecated. In a future version, integer keys will always be treated as labels (consistent with DataFrame behavior). To access a value by position, use `ser.iloc[pos]`\n",
      "  print(seri1[0])\n"
     ]
    }
   ],
   "source": [
    "\n",
    "seri1 = pd.Series([2018,'Makine Öğrenmesi',-5.23],index=['A','B','C'])\n",
    "print(seri1)\n",
    "print(seri1['A'])\n",
    "print(seri1[0])"
   ]
  },
  {
   "cell_type": "code",
   "execution_count": null,
   "metadata": {},
   "outputs": [],
   "source": []
  },
  {
   "cell_type": "code",
   "execution_count": null,
   "metadata": {},
   "outputs": [],
   "source": [
    "print(seri1.iloc[0])  # Uyarı vermeyecek"
   ]
  },
  {
   "cell_type": "code",
   "execution_count": null,
   "metadata": {},
   "outputs": [],
   "source": []
  },
  {
   "cell_type": "code",
   "execution_count": 33,
   "metadata": {
    "colab": {
     "base_uri": "https://localhost:8080/"
    },
    "executionInfo": {
     "elapsed": 265,
     "status": "ok",
     "timestamp": 1697526904499,
     "user": {
      "displayName": "Sinan Uğuz",
      "userId": "17778726018301354094"
     },
     "user_tz": -180
    },
    "id": "V_vrN-KHHvPj",
    "outputId": "ffce0512-3c79-4ac7-98e8-379392885d68"
   },
   "outputs": [
    {
     "name": "stdout",
     "output_type": "stream",
     "text": [
      "2    20\n",
      "3    25\n",
      "dtype: int64\n"
     ]
    }
   ],
   "source": [
    "#Liste 3.4\n",
    "seri1 = pd.Series([10,15,20,25,30,35])\n",
    "print(seri1[2:4])"
   ]
  },
  {
   "cell_type": "code",
   "execution_count": 34,
   "metadata": {
    "colab": {
     "base_uri": "https://localhost:8080/"
    },
    "executionInfo": {
     "elapsed": 312,
     "status": "ok",
     "timestamp": 1697527100351,
     "user": {
      "displayName": "Sinan Uğuz",
      "userId": "17778726018301354094"
     },
     "user_tz": -180
    },
    "id": "3HbIS09MHxFz",
    "outputId": "bbfc3312-3ee1-41bf-c9d1-4941e0a53311"
   },
   "outputs": [
    {
     "name": "stdout",
     "output_type": "stream",
     "text": [
      "Matematik     70\n",
      "Bilgisayar    90\n",
      "Elektronik    96\n",
      "İstatistik    55\n",
      "dtype: int64\n"
     ]
    }
   ],
   "source": [
    "#Liste 3.5\n",
    "notlar = {\"Matematik\": 70, \"Bilgisayar\": 90, \"Elektronik\": 96, \"İstatistik\": 55}\n",
    "seri1 = pd.Series(notlar)\n",
    "print(seri1)"
   ]
  },
  {
   "cell_type": "code",
   "execution_count": 35,
   "metadata": {
    "colab": {
     "base_uri": "https://localhost:8080/"
    },
    "executionInfo": {
     "elapsed": 318,
     "status": "ok",
     "timestamp": 1697527180465,
     "user": {
      "displayName": "Sinan Uğuz",
      "userId": "17778726018301354094"
     },
     "user_tz": -180
    },
    "id": "9AyTp5tHHy2r",
    "outputId": "594ef48d-0a84-4eee-a4a0-06a2fdd3cf7b"
   },
   "outputs": [
    {
     "name": "stdout",
     "output_type": "stream",
     "text": [
      "False\n"
     ]
    }
   ],
   "source": [
    "#Liste 3.6\n",
    "notlar = {\"Matematik\": 70, \"Bilgisayar\": 90, \"Elektronik\": 96, \"İstatistik\": 55}\n",
    "seri1 = pd.Series(notlar)\n",
    "print('Fizik' in seri1)"
   ]
  },
  {
   "cell_type": "code",
   "execution_count": 36,
   "metadata": {
    "colab": {
     "base_uri": "https://localhost:8080/"
    },
    "executionInfo": {
     "elapsed": 335,
     "status": "ok",
     "timestamp": 1697527261784,
     "user": {
      "displayName": "Sinan Uğuz",
      "userId": "17778726018301354094"
     },
     "user_tz": -180
    },
    "id": "Z4oTp4l0H0kb",
    "outputId": "06d5d61b-bda5-4fbb-b39c-86dd0cb57471"
   },
   "outputs": [
    {
     "name": "stdout",
     "output_type": "stream",
     "text": [
      "Matematik      73.50\n",
      "Bilgisayar     94.50\n",
      "Elektronik    100.80\n",
      "İstatistik     57.75\n",
      "dtype: float64\n"
     ]
    },
    {
     "data": {
      "text/plain": [
       "Matematik     8.366600\n",
       "Bilgisayar    9.486833\n",
       "Elektronik    9.797959\n",
       "İstatistik    7.416198\n",
       "dtype: float64"
      ]
     },
     "execution_count": 36,
     "metadata": {},
     "output_type": "execute_result"
    }
   ],
   "source": [
    "#Liste 3.7\n",
    "notlar = {\"Matematik\": 70, \"Bilgisayar\": 90, \"Elektronik\": 96, \"İstatistik\": 55}\n",
    "seri1 = pd.Series(notlar)\n",
    "print(seri1*1.05)\n",
    "import numpy as np\n",
    "np.sqrt(seri1)"
   ]
  },
  {
   "cell_type": "code",
   "execution_count": 37,
   "metadata": {
    "colab": {
     "base_uri": "https://localhost:8080/"
    },
    "executionInfo": {
     "elapsed": 326,
     "status": "ok",
     "timestamp": 1697527392000,
     "user": {
      "displayName": "Sinan Uğuz",
      "userId": "17778726018301354094"
     },
     "user_tz": -180
    },
    "id": "ggI4ipnLH3HC",
    "outputId": "e42d5fd1-7800-428a-8220-d705b74ac4de"
   },
   "outputs": [
    {
     "name": "stdout",
     "output_type": "stream",
     "text": [
      "3    25\n",
      "4    30\n",
      "5    35\n",
      "dtype: int64\n"
     ]
    }
   ],
   "source": [
    "#Liste 3.8\n",
    "seri1 = pd.Series([10,15,20,25,30,35])\n",
    "print(seri1[seri1>22])"
   ]
  },
  {
   "cell_type": "code",
   "execution_count": 38,
   "metadata": {
    "colab": {
     "base_uri": "https://localhost:8080/"
    },
    "executionInfo": {
     "elapsed": 320,
     "status": "ok",
     "timestamp": 1697527437932,
     "user": {
      "displayName": "Sinan Uğuz",
      "userId": "17778726018301354094"
     },
     "user_tz": -180
    },
    "id": "nY70HkkqH44T",
    "outputId": "4c449e7b-63f4-45a7-b955-e117c57fa402"
   },
   "outputs": [
    {
     "name": "stdout",
     "output_type": "stream",
     "text": [
      "[10 15 20 25 45 50]\n",
      "20    3\n",
      "10    2\n",
      "15    2\n",
      "25    2\n",
      "45    1\n",
      "50    1\n",
      "Name: count, dtype: int64\n"
     ]
    }
   ],
   "source": [
    "#Liste 3.9\n",
    "seri1 = pd.Series([10,15,20,25,25,20,10,15,45,50,20])\n",
    "print(seri1.unique())\n",
    "print(seri1.value_counts())"
   ]
  },
  {
   "cell_type": "code",
   "execution_count": 39,
   "metadata": {
    "colab": {
     "base_uri": "https://localhost:8080/"
    },
    "executionInfo": {
     "elapsed": 301,
     "status": "ok",
     "timestamp": 1697527710265,
     "user": {
      "displayName": "Sinan Uğuz",
      "userId": "17778726018301354094"
     },
     "user_tz": -180
    },
    "id": "oI9XmGWnH6pj",
    "outputId": "f6067b33-df9e-40b6-a4e7-b400b1ca9aaa"
   },
   "outputs": [
    {
     "name": "stdout",
     "output_type": "stream",
     "text": [
      "        okulNo  ortalama             bolum  dogumTarihi\n",
      "Asel       101        90       Makine Müh.         2000\n",
      "Betül      110        95   Bilgisayar Müh.         2000\n",
      "Niyazi     606        97  Mekatronik Müh.          1998\n",
      "      okulNo  ortalama        bolum  dogumTarihi\n",
      "Asel     101        90  Makine Müh.         2000\n"
     ]
    }
   ],
   "source": [
    "#Liste 3.10\n",
    "ogrenciler_dict = {\n",
    "    \"okulNo\": pd.Series([101, 110, 606], index=[\"Asel\", \"Betül\", \"Niyazi\"]),\n",
    "    \"ortalama\": pd.Series([90, 95, 97], index=[\"Asel\", \"Betül\", \"Niyazi\"]),\n",
    "    \"bolum\": pd.Series(['Makine Müh.','Bilgisayar Müh.','Mekatronik Müh. '], index=[\"Asel\", \"Betül\", \"Niyazi\"]),\n",
    "    \"dogumTarihi\": pd.Series([2000,2000,1998], index=[\"Asel\", \"Betül\", \"Niyazi\"]),\n",
    "}\n",
    "tablo = pd.DataFrame(ogrenciler_dict)\n",
    "print(tablo)\n",
    "print(tablo[tablo[\"ortalama\"] < 93])"
   ]
  },
  {
   "cell_type": "code",
   "execution_count": 44,
   "metadata": {
    "colab": {
     "base_uri": "https://localhost:8080/"
    },
    "executionInfo": {
     "elapsed": 34686,
     "status": "ok",
     "timestamp": 1697528350960,
     "user": {
      "displayName": "Sinan Uğuz",
      "userId": "17778726018301354094"
     },
     "user_tz": -180
    },
    "id": "XTC-ZfySH8m7",
    "outputId": "accc55a6-e685-4560-fb0a-db7042b39c49"
   },
   "outputs": [],
   "source": [
    "column_names = ['sepal_length', 'sepal_width', 'petal_length', 'petal_width', 'species']\n",
    "data = pd.read_csv(\"iris/iris.data\", header=None, names=column_names)"
   ]
  },
  {
   "cell_type": "markdown",
   "metadata": {},
   "source": [
    "data"
   ]
  },
  {
   "cell_type": "code",
   "execution_count": null,
   "metadata": {},
   "outputs": [],
   "source": []
  },
  {
   "cell_type": "code",
   "execution_count": 51,
   "metadata": {
    "colab": {
     "base_uri": "https://localhost:8080/",
     "height": 507
    },
    "executionInfo": {
     "elapsed": 1902,
     "status": "ok",
     "timestamp": 1697529171230,
     "user": {
      "displayName": "Sinan Uğuz",
      "userId": "17778726018301354094"
     },
     "user_tz": -180
    },
    "id": "NsPdC1lKIF6r",
    "outputId": "0996909f-5ed3-4dd5-b5f9-a3f82158721f"
   },
   "outputs": [
    {
     "data": {
      "text/plain": [
       "<Axes: >"
      ]
     },
     "execution_count": 51,
     "metadata": {},
     "output_type": "execute_result"
    },
    {
     "data": {
      "image/png": "[encoded data removed]",
      "text/plain": [
       "<Figure size 640x480 with 2 Axes>"
      ]
     },
     "metadata": {},
     "output_type": "display_data"
    }
   ],
   "source": [
    "\n",
    "import seaborn as sb\n",
    "# Sadece sayısal sütunları seç\n",
    "numeric_data = data.select_dtypes(include=[np.number])\n",
    "\n",
    "\n",
    "sb.heatmap(numeric_data.corr(), annot=True, fmt=\".2f\", cmap=\"coolwarm\", linewidths=2.2)\n",
    "\n"
   ]
  },
  {
   "cell_type": "code",
   "execution_count": null,
   "metadata": {},
   "outputs": [],
   "source": []
  }
 ],
 "metadata": {
  "colab": {
   "authorship_tag": "ABX9TyMrRJst2erP7emJdSK+Jy08",
   "provenance": []
  },
  "kernelspec": {
   "display_name": "Python 3.11 (tf2.15)",
   "language": "python",
   "name": "tf2"
  },
  "language_info": {
   "codemirror_mode": {
    "name": "ipython",
    "version": 3
   },
   "file_extension": ".py",
   "mimetype": "text/x-python",
   "name": "python",
   "nbconvert_exporter": "python",
   "pygments_lexer": "ipython3",
   "version": "3.11.10"
  }
 },
 "nbformat": 4,
 "nbformat_minor": 4
}
